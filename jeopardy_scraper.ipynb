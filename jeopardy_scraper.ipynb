{
 "cells": [
  {
   "cell_type": "code",
   "execution_count": 37,
   "metadata": {},
   "outputs": [],
   "source": [
    "import requests as req\n",
    "import duckdb\n",
    "import pandas as pd\n",
    "from datetime import datetime, timedelta\n",
    "import time\n",
    "from enum import Enum\n",
    "from typing import Optional, Tuple, List\n",
    "import json\n"
   ]
  },
  {
   "cell_type": "code",
   "execution_count": 56,
   "metadata": {},
   "outputs": [],
   "source": [
    "def get_jeopardy_game(month, day, year, max_retries=3, base_delay=1):\n",
    "    game_data = []\n",
    "    failed_dates = []\n",
    "    month_str = str(month).zfill(2)\n",
    "    day_str = str(day).zfill(2)\n",
    "\n",
    "    for round_num in range(1, 3):\n",
    "        url = f\"https://jarchive-json.glitch.me/glitch/{month_str}/{day_str}/{year}/{round_num}\"\n",
    "        \n",
    "        for attempt in range(max_retries):\n",
    "            try:\n",
    "                response = req.get(url, timeout=10)\n",
    "                response.raise_for_status()\n",
    "                \n",
    "                # Check for \"no game\" message in response\n",
    "                data = response.json()\n",
    "                if isinstance(data, dict) and \"message\" in data:\n",
    "                    if \"does not have a game\" in data[\"message\"]:\n",
    "                        return None  # Indicate no game available\n",
    "                \n",
    "                game_data.append(data)\n",
    "                break\n",
    "                \n",
    "            except req.exceptions.RequestException as e:\n",
    "                delay = base_delay * (2 ** attempt)\n",
    "                if attempt < max_retries - 1:\n",
    "                    print(f\"Attempt {attempt + 1} failed for round {round_num}. Retrying in {delay} seconds...\")\n",
    "                    time.sleep(delay)\n",
    "                else:\n",
    "                    failed_dates.append(f\"{year}-{month_str}-{day_str}\")\n",
    "        \n",
    "    if not game_data:\n",
    "        raise Exception(\"Failed to fetch any game data\")\n",
    "        \n",
    "    return game_data, failed_dates"
   ]
  },
  {
   "cell_type": "code",
   "execution_count": 47,
   "metadata": {},
   "outputs": [],
   "source": [
    "def store_jeopardy_game(month, day, year):\n",
    "    # Fetch the game data\n",
    "    game_data = get_jeopardy_game(month, day, year)\n",
    "    \n",
    "    # Transform data into a flat structure\n",
    "    flattened_data = []\n",
    "    game_date = datetime(year, month, day).date()  # Convert to date instead of datetime\n",
    "    \n",
    "    for round_num, round_data in enumerate(game_data, 1):\n",
    "        for category, clues in round_data.items():\n",
    "            for clue in clues:\n",
    "                flattened_data.append({\n",
    "                    'game_date': game_date,\n",
    "                    'round': round_num,\n",
    "                    'category': category,\n",
    "                    'clue': clue['clue'],\n",
    "                    'answer': clue['answer']\n",
    "                })\n",
    "    \n",
    "    # Convert to DataFrame\n",
    "    df = pd.DataFrame(flattened_data)\n",
    "    \n",
    "    # Initialize DuckDB and create table if it doesn't exist\n",
    "    conn = duckdb.connect('jeopardy.db')\n",
    "    \n",
    "    # Create table if it doesn't exist\n",
    "    conn.execute(\"\"\"\n",
    "        CREATE TABLE IF NOT EXISTS jeopardy_clues (\n",
    "            game_date DATE,\n",
    "            round INTEGER,\n",
    "            category VARCHAR,\n",
    "            clue VARCHAR,\n",
    "            answer VARCHAR,\n",
    "            main_category VARCHAR,\n",
    "            suggested_category VARCHAR,\n",
    "            PRIMARY KEY (game_date, round, category, clue)\n",
    "        )\n",
    "    \"\"\")\n",
    "    \n",
    "    # Convert DataFrame to DuckDB table and insert\n",
    "    conn.execute(\"INSERT OR IGNORE INTO jeopardy_clues SELECT * FROM df\")\n",
    "    conn.commit()  # Add explicit commit\n",
    "    conn.close()\n",
    "    \n",
    "    return len(flattened_data)"
   ]
  },
  {
   "cell_type": "code",
   "execution_count": 51,
   "metadata": {},
   "outputs": [
    {
     "name": "stdout",
     "output_type": "stream",
     "text": [
      "Stored 60 clues for 2023-10-23\n",
      "Stored 60 clues for 2023-10-24\n",
      "Stored 60 clues for 2023-10-25\n",
      "Stored total of 180 clues\n"
     ]
    }
   ],
   "source": [
    "def store_jeopardy_games_range(start_date, end_date):\n",
    "    current_date = start_date\n",
    "    total_clues = 0\n",
    "    \n",
    "    while current_date <= end_date:\n",
    "        try:\n",
    "            clues_stored = store_jeopardy_game(\n",
    "                current_date.month,\n",
    "                current_date.day,\n",
    "                current_date.year\n",
    "            )\n",
    "            print(f\"Stored {clues_stored} clues for {current_date.date()}\")\n",
    "            total_clues += clues_stored\n",
    "            \n",
    "        except Exception as e:\n",
    "            print(f\"Failed to fetch/store game for {current_date.date()}: {str(e)}\")\n",
    "            \n",
    "        current_date += timedelta(days=1)\n",
    "    \n",
    "    return total_clues\n"
   ]
  },
  {
   "cell_type": "code",
   "execution_count": null,
   "metadata": {},
   "outputs": [],
   "source": [
    "# Example usage:\n",
    "start = datetime(2023, 10, 23)\n",
    "end = datetime(2023, 10, 25)\n",
    "total = store_jeopardy_games_range(start, end)\n",
    "print(f\"Stored total of {total} clues\")"
   ]
  },
  {
   "cell_type": "code",
   "execution_count": 50,
   "metadata": {},
   "outputs": [
    {
     "data": {
      "text/plain": [
       "[(datetime.date(2023, 10, 25),\n",
       "  1,\n",
       "  'PRODUCE',\n",
       "  'Big on vitamins A & C, this leafy vegetable also has a lot of fiber & acts as a mild laxative; look out, sailor man!',\n",
       "  'spinach',\n",
       "  None,\n",
       "  None),\n",
       " (datetime.date(2023, 10, 25),\n",
       "  1,\n",
       "  'PRODUCE',\n",
       "  'In 2008 a pair of Brits were out of their gourd, growing a 1,457-lb. one of these; smashing!',\n",
       "  'a pumpkin',\n",
       "  None,\n",
       "  None),\n",
       " (datetime.date(2023, 10, 25),\n",
       "  1,\n",
       "  'PRODUCE',\n",
       "  'Dr. Thomas Welch is credited with making the first unfermented juice from this fruit',\n",
       "  'a grape',\n",
       "  None,\n",
       "  None),\n",
       " (datetime.date(2023, 10, 25),\n",
       "  1,\n",
       "  'PRODUCE',\n",
       "  'When life gives you the Meyer type of this tree, expect plenty of fruit year-round',\n",
       "  'a lemon',\n",
       "  None,\n",
       "  None),\n",
       " (datetime.date(2023, 10, 25),\n",
       "  1,\n",
       "  'PRODUCE',\n",
       "  'The name of this cylindrical vegetable means \"little squashes\" in Italian',\n",
       "  'zucchini',\n",
       "  None,\n",
       "  None)]"
      ]
     },
     "execution_count": 50,
     "metadata": {},
     "output_type": "execute_result"
    }
   ],
   "source": [
    "# Query example\n",
    "conn = duckdb.connect('jeopardy.db')\n",
    "result = conn.execute(\"\"\"\n",
    "    SELECT * \n",
    "    FROM jeopardy_clues \n",
    "    WHERE game_date = DATE '2023-10-25'\n",
    "    LIMIT 5\n",
    "\"\"\").fetchall()\n",
    "conn.close()\n",
    "result"
   ]
  },
  {
   "cell_type": "code",
   "execution_count": 38,
   "metadata": {},
   "outputs": [],
   "source": [
    "class Category(Enum):\n",
    "    GEOGRAPHY = \"geography\"\n",
    "    HISTORY = \"history\"\n",
    "    LITERATURE = \"literature\"\n",
    "    SCIENCE = \"science\"\n",
    "    ARTS = \"arts\"\n",
    "    ENTERTAINMENT = \"entertainment\"\n",
    "    SPORTS = \"sports\"\n",
    "    FOOD_DRINK = \"food_and_drink\"\n",
    "    LANGUAGE = \"language\"\n",
    "    RELIGION_MYTHOLOGY = \"religion_and_mythology\"\n",
    "    # Add more categories as needed\n"
   ]
  },
  {
   "cell_type": "code",
   "execution_count": 40,
   "metadata": {},
   "outputs": [],
   "source": [
    "def categorize_clues_batch(clues: List[Tuple], llm_client) -> List[dict]:\n",
    "    \"\"\"\n",
    "    Categorize multiple clues in a single API call\n",
    "    \n",
    "    Args:\n",
    "        clues: List of (game_date, round, category, clue, answer) tuples\n",
    "        llm_client: Gemini client\n",
    "        batch_size: Number of clues per batch\n",
    "    \"\"\"\n",
    "    prompt = f\"\"\"\n",
    "    Think carefully about this task and ensure that your output adheres to the format specified, and includes\n",
    "    no other text but the JSON.\n",
    "    \n",
    "    Categorize each Jeopardy clue into one of the following categories:\n",
    "    {[c.value for c in Category]}\n",
    "    \n",
    "    If none of these categories fit well, suggest a new category prefixed with 'NEW:'.\n",
    "    \n",
    "    For each clue, analyze the category name, clue text, and answer to make your determination.\n",
    "    \n",
    "    Clues to categorize:\n",
    "    {json.dumps([{\n",
    "        'id': i,\n",
    "        'category': c[2],\n",
    "        'clue': c[3],\n",
    "        'answer': c[4]\n",
    "    } for i, c in enumerate(clues)], indent=2)}\n",
    "    \n",
    "    Return your response in JSON format with no other text:\n",
    "    {{\n",
    "        \"categorizations\": [\n",
    "            {{\n",
    "                \"id\": 0,\n",
    "                \"category\": \"existing_category or NEW:suggested_category\",\n",
    "                \"confidence\": 0-1,\n",
    "                \"reasoning\": \"brief explanation\"\n",
    "            }},\n",
    "            ...\n",
    "        ]\n",
    "    }}\n",
    "    \"\"\"\n",
    "    \n",
    "    response = llm_client.generate_content(prompt)\n",
    "    \n",
    "    try:\n",
    "        result = json.loads(response.text)\n",
    "        return result['categorizations']\n",
    "    except json.JSONDecodeError:\n",
    "        print(f\"Failed to parse response: {response.text}\")\n",
    "        return []\n",
    "\n",
    "def process_uncategorized_clues_batch(llmclient,batch_size=50):\n",
    "    conn = duckdb.connect('jeopardy.db')\n",
    "    \n",
    "    # Get batch of uncategorized clues\n",
    "    clues = conn.execute(\"\"\"\n",
    "        SELECT game_date, round, category, clue, answer\n",
    "        FROM jeopardy_clues \n",
    "        WHERE main_category IS NULL \n",
    "        LIMIT ?\n",
    "    \"\"\", [batch_size]).fetchall()\n",
    "    \n",
    "    if not clues:\n",
    "        conn.close()\n",
    "        return 0\n",
    "        \n",
    "    categorizations = categorize_clues_batch(clues, llmclient)\n",
    "    \n",
    "    # Process results\n",
    "    for cat in categorizations:\n",
    "        clue = clues[cat['id']]\n",
    "        main_cat = None\n",
    "        suggested_cat = None\n",
    "        \n",
    "        if cat['confidence'] >= 0.7:\n",
    "            if cat['category'].startswith('NEW:'):\n",
    "                suggested_cat = cat['category'][4:]\n",
    "            else:\n",
    "                try:\n",
    "                    main_cat = Category(cat['category']).value\n",
    "                except ValueError:\n",
    "                    suggested_cat = cat['category']\n",
    "        \n",
    "        conn.execute(\"\"\"\n",
    "            UPDATE jeopardy_clues \n",
    "            SET main_category = ?, suggested_category = ?\n",
    "            WHERE game_date = ? AND round = ? AND category = ? AND clue = ?\n",
    "        \"\"\", [\n",
    "            main_cat,\n",
    "            suggested_cat,\n",
    "            clue[0], clue[1], clue[2], clue[3]\n",
    "        ])\n",
    "    \n",
    "    conn.commit()\n",
    "    conn.close()\n",
    "    \n",
    "    return len(clues)"
   ]
  },
  {
   "cell_type": "code",
   "execution_count": 51,
   "metadata": {},
   "outputs": [
    {
     "ename": "NotImplementedException",
     "evalue": "Not implemented Error: Unable to transform python value of type '<class 'google.generativeai.generative_models.GenerativeModel'>' to DuckDB LogicalType",
     "output_type": "error",
     "traceback": [
      "\u001b[0;31m---------------------------------------------------------------------------\u001b[0m",
      "\u001b[0;31mNotImplementedException\u001b[0m                   Traceback (most recent call last)",
      "Input \u001b[0;32mIn [51]\u001b[0m, in \u001b[0;36m<module>\u001b[0;34m\u001b[0m\n\u001b[0;32m----> 1\u001b[0m \u001b[43mprocess_uncategorized_clues_batch\u001b[49m\u001b[43m(\u001b[49m\u001b[43mmodel\u001b[49m\u001b[43m)\u001b[49m\n",
      "Input \u001b[0;32mIn [40]\u001b[0m, in \u001b[0;36mprocess_uncategorized_clues_batch\u001b[0;34m(batch_size, llmclient)\u001b[0m\n\u001b[1;32m     53\u001b[0m conn \u001b[38;5;241m=\u001b[39m duckdb\u001b[38;5;241m.\u001b[39mconnect(\u001b[38;5;124m'\u001b[39m\u001b[38;5;124mjeopardy.db\u001b[39m\u001b[38;5;124m'\u001b[39m)\n\u001b[1;32m     55\u001b[0m \u001b[38;5;66;03m# Get batch of uncategorized clues\u001b[39;00m\n\u001b[0;32m---> 56\u001b[0m clues \u001b[38;5;241m=\u001b[39m \u001b[43mconn\u001b[49m\u001b[38;5;241;43m.\u001b[39;49m\u001b[43mexecute\u001b[49m\u001b[43m(\u001b[49m\u001b[38;5;124;43m\"\"\"\u001b[39;49m\n\u001b[1;32m     57\u001b[0m \u001b[38;5;124;43m    SELECT game_date, round, category, clue, answer\u001b[39;49m\n\u001b[1;32m     58\u001b[0m \u001b[38;5;124;43m    FROM jeopardy_clues \u001b[39;49m\n\u001b[1;32m     59\u001b[0m \u001b[38;5;124;43m    WHERE main_category IS NULL \u001b[39;49m\n\u001b[1;32m     60\u001b[0m \u001b[38;5;124;43m    LIMIT ?\u001b[39;49m\n\u001b[1;32m     61\u001b[0m \u001b[38;5;124;43m\u001b[39;49m\u001b[38;5;124;43m\"\"\"\u001b[39;49m\u001b[43m,\u001b[49m\u001b[43m \u001b[49m\u001b[43m[\u001b[49m\u001b[43mbatch_size\u001b[49m\u001b[43m]\u001b[49m\u001b[43m)\u001b[49m\u001b[38;5;241m.\u001b[39mfetchall()\n\u001b[1;32m     63\u001b[0m \u001b[38;5;28;01mif\u001b[39;00m \u001b[38;5;129;01mnot\u001b[39;00m clues:\n\u001b[1;32m     64\u001b[0m     conn\u001b[38;5;241m.\u001b[39mclose()\n",
      "\u001b[0;31mNotImplementedException\u001b[0m: Not implemented Error: Unable to transform python value of type '<class 'google.generativeai.generative_models.GenerativeModel'>' to DuckDB LogicalType"
     ]
    }
   ],
   "source": [
    "process_uncategorized_clues_batch(model)"
   ]
  },
  {
   "cell_type": "code",
   "execution_count": 4,
   "metadata": {},
   "outputs": [
    {
     "name": "stderr",
     "output_type": "stream",
     "text": [
      "/Users/traviscole/opt/anaconda3/envs/cs7643-a1/lib/python3.9/site-packages/tqdm/auto.py:21: TqdmWarning: IProgress not found. Please update jupyter and ipywidgets. See https://ipywidgets.readthedocs.io/en/stable/user_install.html\n",
      "  from .autonotebook import tqdm as notebook_tqdm\n"
     ]
    }
   ],
   "source": [
    "import google.generativeai as genai\n"
   ]
  },
  {
   "cell_type": "code",
   "execution_count": 5,
   "metadata": {},
   "outputs": [
    {
     "name": "stdout",
     "output_type": "stream",
     "text": [
      "AI, or Artificial Intelligence, doesn't work in one single way.  It's a broad field encompassing many different techniques and approaches. However, at a high level, most AI systems rely on these core principles:\n",
      "\n",
      "**1. Data:** AI systems are fundamentally driven by data.  The more relevant and high-quality data they are trained on, the better they perform. This data can be anything from images and text to sensor readings and financial transactions.\n",
      "\n",
      "**2. Algorithms:** These are sets of rules and statistical techniques that the AI uses to process and analyze the data.  Different algorithms are suited for different tasks.  Some common types include:\n",
      "\n",
      "* **Machine Learning (ML):** This is a subset of AI where systems learn from data without being explicitly programmed.  Instead of following hard-coded rules, they identify patterns and relationships within the data to make predictions or decisions.  There are various types of ML, including:\n",
      "    * **Supervised Learning:** The algorithm learns from labeled data (e.g., images labeled as \"cat\" or \"dog\").\n",
      "    * **Unsupervised Learning:** The algorithm finds patterns in unlabeled data (e.g., grouping customers based on purchasing behavior).\n",
      "    * **Reinforcement Learning:** The algorithm learns through trial and error by interacting with an environment and receiving rewards or penalties.\n",
      "\n",
      "* **Deep Learning (DL):** A more advanced form of ML that uses artificial neural networks with multiple layers (hence \"deep\"). These networks can learn incredibly complex patterns, making them effective for tasks like image recognition, natural language processing, and speech recognition.\n",
      "\n",
      "* **Expert Systems:** These systems use a knowledge base of rules and facts to mimic the decision-making of a human expert.  They are often used in specific domains where clear rules exist.\n",
      "\n",
      "\n",
      "**3. Models:**  The algorithm processes the data and creates a model – a representation of the patterns and relationships it has learned.  This model is then used to make predictions or take actions on new, unseen data.\n",
      "\n",
      "\n",
      "**4. Inference/Prediction:** Once a model is trained, it can be used to make inferences or predictions on new data. For example, a trained image recognition model can classify a new image as a \"cat\" or \"dog.\"\n",
      "\n",
      "\n",
      "**5. Feedback and Iteration (often):** Many AI systems, especially those using machine learning, are iterative.  The performance of the model is evaluated, and adjustments are made to the algorithm, data, or model to improve accuracy and efficiency.\n",
      "\n",
      "\n",
      "**In simpler terms:** Imagine teaching a dog a trick.  You (the data) show the dog (the algorithm) what to do repeatedly (training).  The dog learns the pattern (the model) and eventually performs the trick (inference) when you give the command.  If the dog doesn't perform well, you adjust your training method (iteration).\n",
      "\n",
      "\n",
      "It's important to remember that AI is not sentient or conscious.  It's a tool that can perform complex tasks, but it operates based on the data it's given and the algorithms it uses. The capabilities and limitations of an AI system are directly tied to these factors.\n",
      "\n"
     ]
    }
   ],
   "source": [
    "api_key = ''\n",
    "genai.configure(api_key=api_key)\n"
   ]
  },
  {
   "cell_type": "code",
   "execution_count": 6,
   "metadata": {},
   "outputs": [],
   "source": [
    "model = genai.GenerativeModel(\"gemini-1.5-flash\")\n"
   ]
  },
  {
   "cell_type": "code",
   "execution_count": 8,
   "metadata": {},
   "outputs": [],
   "source": [
    "category = 'PRODUCE'\n",
    "clue = 'Big on vitamins A & C, this leafy vegetable also has a lot of fiber & acts as a mild laxative; look out, sailor man!'\n",
    "answer = 'spinach'"
   ]
  },
  {
   "cell_type": "code",
   "execution_count": 32,
   "metadata": {},
   "outputs": [],
   "source": [
    "category = 'SHE BLINDED ME WITH SCIENCE'\n",
    "clue = 'Called the first female M.D. in modern times, she helped found the London School of Medicine for Women in 1875'\n",
    "answer = 'Dr. Elizabeth Blackwell'"
   ]
  },
  {
   "cell_type": "code",
   "execution_count": 34,
   "metadata": {},
   "outputs": [],
   "source": [
    "category = 'ALSO ON THE MONOPOLY BOARD'\n",
    "clue = 'Alliterative slang for crying'\n",
    "answer = 'the waterworks'"
   ]
  },
  {
   "cell_type": "code",
   "execution_count": 35,
   "metadata": {},
   "outputs": [
    {
     "name": "stdout",
     "output_type": "stream",
     "text": [
      "\n",
      "{\n",
      "  \"category\": \"language\",\n",
      "  \"confidence\": 0.8,\n",
      "  \"reasoning\": \"The clue focuses on slang, which is a linguistic concept.\"\n",
      "}\n",
      "\n"
     ]
    },
    {
     "data": {
      "text/plain": [
       "(<Category.LANGUAGE: 'language'>, None)"
      ]
     },
     "execution_count": 35,
     "metadata": {},
     "output_type": "execute_result"
    }
   ],
   "source": [
    "category = categorize_clue(clue, category, answer, model)\n",
    "category"
   ]
  }
 ],
 "metadata": {
  "kernelspec": {
   "display_name": "cs7643-a1",
   "language": "python",
   "name": "python3"
  },
  "language_info": {
   "codemirror_mode": {
    "name": "ipython",
    "version": 3
   },
   "file_extension": ".py",
   "mimetype": "text/x-python",
   "name": "python",
   "nbconvert_exporter": "python",
   "pygments_lexer": "ipython3",
   "version": "3.9.7"
  }
 },
 "nbformat": 4,
 "nbformat_minor": 2
}
