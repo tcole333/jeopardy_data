{
 "cells": [
  {
   "cell_type": "code",
   "execution_count": 36,
   "metadata": {},
   "outputs": [],
   "source": [
    "import requests as req\n",
    "import duckdb\n",
    "import pandas as pd\n",
    "from datetime import datetime, timedelta\n",
    "import time\n"
   ]
  },
  {
   "cell_type": "code",
   "execution_count": 56,
   "metadata": {},
   "outputs": [],
   "source": [
    "def get_jeopardy_game(month, day, year, max_retries=3, base_delay=1):\n",
    "    game_data = []\n",
    "    failed_dates = []\n",
    "    month_str = str(month).zfill(2)\n",
    "    day_str = str(day).zfill(2)\n",
    "\n",
    "    for round_num in range(1, 3):\n",
    "        url = f\"https://jarchive-json.glitch.me/glitch/{month_str}/{day_str}/{year}/{round_num}\"\n",
    "        \n",
    "        for attempt in range(max_retries):\n",
    "            try:\n",
    "                response = req.get(url, timeout=10)\n",
    "                response.raise_for_status()\n",
    "                \n",
    "                # Check for \"no game\" message in response\n",
    "                data = response.json()\n",
    "                if isinstance(data, dict) and \"message\" in data:\n",
    "                    if \"does not have a game\" in data[\"message\"]:\n",
    "                        return None  # Indicate no game available\n",
    "                \n",
    "                game_data.append(data)\n",
    "                break\n",
    "                \n",
    "            except req.exceptions.RequestException as e:\n",
    "                delay = base_delay * (2 ** attempt)\n",
    "                if attempt < max_retries - 1:\n",
    "                    print(f\"Attempt {attempt + 1} failed for round {round_num}. Retrying in {delay} seconds...\")\n",
    "                    time.sleep(delay)\n",
    "                else:\n",
    "                    failed_dates.append(f\"{year}-{month_str}-{day_str}\")\n",
    "        \n",
    "    if not game_data:\n",
    "        raise Exception(\"Failed to fetch any game data\")\n",
    "        \n",
    "    return game_data, failed_dates"
   ]
  },
  {
   "cell_type": "code",
   "execution_count": 47,
   "metadata": {},
   "outputs": [],
   "source": [
    "def store_jeopardy_game(month, day, year):\n",
    "    # Fetch the game data\n",
    "    game_data = get_jeopardy_game(month, day, year)\n",
    "    \n",
    "    # Transform data into a flat structure\n",
    "    flattened_data = []\n",
    "    game_date = datetime(year, month, day).date()  # Convert to date instead of datetime\n",
    "    \n",
    "    for round_num, round_data in enumerate(game_data, 1):\n",
    "        for category, clues in round_data.items():\n",
    "            for clue in clues:\n",
    "                flattened_data.append({\n",
    "                    'game_date': game_date,\n",
    "                    'round': round_num,\n",
    "                    'category': category,\n",
    "                    'clue': clue['clue'],\n",
    "                    'answer': clue['answer']\n",
    "                })\n",
    "    \n",
    "    # Convert to DataFrame\n",
    "    df = pd.DataFrame(flattened_data)\n",
    "    \n",
    "    # Initialize DuckDB and create table if it doesn't exist\n",
    "    conn = duckdb.connect('jeopardy.db')\n",
    "    \n",
    "    # Create table if it doesn't exist\n",
    "    conn.execute(\"\"\"\n",
    "        CREATE TABLE IF NOT EXISTS jeopardy_clues (\n",
    "            game_date DATE,\n",
    "            round INTEGER,\n",
    "            category VARCHAR,\n",
    "            clue VARCHAR,\n",
    "            answer VARCHAR,\n",
    "            PRIMARY KEY (game_date, round, category, clue)\n",
    "        )\n",
    "    \"\"\")\n",
    "    \n",
    "    # Convert DataFrame to DuckDB table and insert\n",
    "    conn.execute(\"INSERT OR IGNORE INTO jeopardy_clues SELECT * FROM df\")\n",
    "    conn.commit()  # Add explicit commit\n",
    "    conn.close()\n",
    "    \n",
    "    return len(flattened_data)"
   ]
  },
  {
   "cell_type": "code",
   "execution_count": 51,
   "metadata": {},
   "outputs": [
    {
     "name": "stdout",
     "output_type": "stream",
     "text": [
      "Stored 60 clues for 2023-10-23\n",
      "Stored 60 clues for 2023-10-24\n",
      "Stored 60 clues for 2023-10-25\n",
      "Stored total of 180 clues\n"
     ]
    }
   ],
   "source": [
    "def store_jeopardy_games_range(start_date, end_date):\n",
    "    current_date = start_date\n",
    "    total_clues = 0\n",
    "    \n",
    "    while current_date <= end_date:\n",
    "        try:\n",
    "            clues_stored = store_jeopardy_game(\n",
    "                current_date.month,\n",
    "                current_date.day,\n",
    "                current_date.year\n",
    "            )\n",
    "            print(f\"Stored {clues_stored} clues for {current_date.date()}\")\n",
    "            total_clues += clues_stored\n",
    "            \n",
    "        except Exception as e:\n",
    "            print(f\"Failed to fetch/store game for {current_date.date()}: {str(e)}\")\n",
    "            \n",
    "        current_date += timedelta(days=1)\n",
    "    \n",
    "    return total_clues\n"
   ]
  },
  {
   "cell_type": "code",
   "execution_count": null,
   "metadata": {},
   "outputs": [],
   "source": [
    "# Example usage:\n",
    "start = datetime(2023, 10, 23)\n",
    "end = datetime(2023, 10, 25)\n",
    "total = store_jeopardy_games_range(start, end)\n",
    "print(f\"Stored total of {total} clues\")"
   ]
  },
  {
   "cell_type": "code",
   "execution_count": 55,
   "metadata": {},
   "outputs": [
    {
     "data": {
      "text/plain": [
       "[(datetime.date(2023, 10, 25),\n",
       "  1,\n",
       "  'PRODUCE',\n",
       "  'Big on vitamins A & C, this leafy vegetable also has a lot of fiber & acts as a mild laxative; look out, sailor man!',\n",
       "  'spinach'),\n",
       " (datetime.date(2023, 10, 25),\n",
       "  1,\n",
       "  'PRODUCE',\n",
       "  'In 2008 a pair of Brits were out of their gourd, growing a 1,457-lb. one of these; smashing!',\n",
       "  'a pumpkin'),\n",
       " (datetime.date(2023, 10, 25),\n",
       "  1,\n",
       "  'PRODUCE',\n",
       "  'Dr. Thomas Welch is credited with making the first unfermented juice from this fruit',\n",
       "  'a grape'),\n",
       " (datetime.date(2023, 10, 25),\n",
       "  1,\n",
       "  'PRODUCE',\n",
       "  'When life gives you the Meyer type of this tree, expect plenty of fruit year-round',\n",
       "  'a lemon'),\n",
       " (datetime.date(2023, 10, 25),\n",
       "  1,\n",
       "  'PRODUCE',\n",
       "  'The name of this cylindrical vegetable means \"little squashes\" in Italian',\n",
       "  'zucchini')]"
      ]
     },
     "execution_count": 55,
     "metadata": {},
     "output_type": "execute_result"
    }
   ],
   "source": [
    "# Query example\n",
    "conn = duckdb.connect('jeopardy.db')\n",
    "result = conn.execute(\"\"\"\n",
    "    SELECT * \n",
    "    FROM jeopardy_clues \n",
    "    WHERE game_date = DATE '2023-10-25'\n",
    "    LIMIT 5\n",
    "\"\"\").fetchall()\n",
    "conn.close()\n",
    "result"
   ]
  }
 ],
 "metadata": {
  "kernelspec": {
   "display_name": "cs7643-a1",
   "language": "python",
   "name": "python3"
  },
  "language_info": {
   "codemirror_mode": {
    "name": "ipython",
    "version": 3
   },
   "file_extension": ".py",
   "mimetype": "text/x-python",
   "name": "python",
   "nbconvert_exporter": "python",
   "pygments_lexer": "ipython3",
   "version": "3.9.7"
  }
 },
 "nbformat": 4,
 "nbformat_minor": 2
}
